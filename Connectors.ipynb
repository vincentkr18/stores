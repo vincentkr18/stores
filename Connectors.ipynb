{
 "cells": [
  {
   "cell_type": "markdown",
   "id": "b3cab2db",
   "metadata": {},
   "source": [
    "# ORACLE Connector\n",
    "\n",
    "### Connect Python to Oracle"
   ]
  },
  {
   "cell_type": "code",
   "execution_count": 1,
   "id": "20d05ce6",
   "metadata": {},
   "outputs": [
    {
     "name": "stdout",
     "output_type": "stream",
     "text": [
      "Collecting cx_Oracle\n",
      "  Downloading cx_Oracle-8.3.0-cp39-cp39-win_amd64.whl (213 kB)\n",
      "Installing collected packages: cx-Oracle\n",
      "Successfully installed cx-Oracle-8.3.0\n"
     ]
    }
   ],
   "source": [
    "#!pip install cx_Oracle\n",
    "\n",
    "import cx_Oracle\n",
    "\n",
    "hostname = ''\n",
    "port = ''\n",
    "servicename = ''\n",
    "username = ''\n",
    "password = ''\n",
    "\n",
    "dsn_tns = cx_Oracle.makedsn(hostname,\n",
    "                            port,\n",
    "                            service_name=servicename) # if needed, place an 'r' before any parameter in order to address special characters such as '\\'.\n",
    "\n",
    "conn = cx_Oracle.connect(user=username,\n",
    "                         password=password,\n",
    "                         dsn=dsn_tns) # if needed, place an 'r' before any parameter in order to address special characters such as '\\'. For example, if your user name contains '\\', you'll need to place 'r' before the user name: user=r'User Name'\n",
    "\n",
    "c = conn.cursor()\n",
    "c.execute('select * from database.table') # use triple quotes if you want to spread your query across multiple lines\n",
    "for row in c:\n",
    "    print (row[0], '-', row[1]) # this only shows the first two columns. To add an additional column you'll need to add , '-', row[2], etc.\n",
    "#conn.close()"
   ]
  },
  {
   "cell_type": "markdown",
   "id": "6c1cf46b",
   "metadata": {},
   "source": [
    "# POSTGRES Connector\n",
    "\n",
    "### Connect Python to Postgres"
   ]
  },
  {
   "cell_type": "code",
   "execution_count": 3,
   "id": "78c6e14d",
   "metadata": {},
   "outputs": [
    {
     "name": "stdout",
     "output_type": "stream",
     "text": [
      "Collecting psycopg2\n",
      "  Downloading psycopg2-2.9.3-cp39-cp39-win_amd64.whl (1.2 MB)\n",
      "Installing collected packages: psycopg2\n",
      "Successfully installed psycopg2-2.9.3\n"
     ]
    }
   ],
   "source": [
    "!pip install psycopg2\n",
    "\n",
    "import psycopg2\n",
    "\n",
    "hostname = ''\n",
    "port = ''\n",
    "db = ''\n",
    "username = ''\n",
    "password = ''\n",
    "\n",
    "conn = psycopg2.connect(\n",
    "    host=hostname,\n",
    "    database=db,\n",
    "    user=username,\n",
    "    password=password)\n",
    "\n",
    "cur = conn.cursor()\n",
    "        \n",
    "# execute a statement\n",
    "print('PostgreSQL database version:')\n",
    "cur.execute('SELECT version()')\n",
    "\n",
    "# display the PostgreSQL database server version\n",
    "db_version = cur.fetchone()"
   ]
  },
  {
   "cell_type": "markdown",
   "id": "ee00ce86",
   "metadata": {},
   "source": [
    "# MySQL Connector\n",
    "\n",
    "### Connect Python to MySQL"
   ]
  },
  {
   "cell_type": "code",
   "execution_count": 8,
   "id": "b8c356e6",
   "metadata": {},
   "outputs": [],
   "source": [
    "#!pip install  mysql-connector-python\n",
    "import mysql.connector\n",
    "\n",
    "\n",
    "hostname = ''\n",
    "port = ''\n",
    "db = ''\n",
    "username = ''\n",
    "password = ''\n",
    "\n",
    "\n",
    "cnx = mysql.connector.connect(user=username,\n",
    "                              password=password,\n",
    "                              host=hostname,\n",
    "                              database=db)\n",
    "cnx.close()\n"
   ]
  },
  {
   "cell_type": "markdown",
   "id": "e0181e2f",
   "metadata": {},
   "source": [
    "# MariaDB Connector\n",
    "\n",
    "### Connect Python to MariaDB"
   ]
  },
  {
   "cell_type": "code",
   "execution_count": 12,
   "id": "fddce282",
   "metadata": {},
   "outputs": [],
   "source": [
    "#!pip install mariadb\n",
    "import mariadb\n",
    "\n",
    "hostname = ''\n",
    "port = ''\n",
    "db = ''\n",
    "username = ''\n",
    "password = ''\n",
    "\n",
    "conn = mariadb.connect(\n",
    "        host=hostname,\n",
    "        port=port,\n",
    "        user=username,\n",
    "        password=password)\n",
    "\n",
    "# Instantiate Cursor\n",
    "cur = conn.cursor()"
   ]
  },
  {
   "cell_type": "markdown",
   "id": "78ef2867",
   "metadata": {},
   "source": [
    "# Azure Connector\n",
    "\n",
    "## Azure - SQL Database\n",
    "\n",
    "### Connect Python to Azure -  SQL Database"
   ]
  },
  {
   "cell_type": "code",
   "execution_count": null,
   "id": "ea93503a",
   "metadata": {},
   "outputs": [],
   "source": [
    "import pyodbc\n",
    "server = '<server>.database.windows.net'\n",
    "database = '<database>'\n",
    "username = '<username>'\n",
    "password = '{<password>}'   \n",
    "driver= '{ODBC Driver 17 for SQL Server}'\n",
    "\n",
    "conn = pyodbc.connect('DRIVER='+driver+';SERVER=tcp:'+server+';PORT=1433;DATABASE='+database+';UID='+username+';PWD='+ password)\n",
    "cursor = conn.cursor()\n",
    "cursor.execute(\"SELECT TOP 3 name, collation_name FROM sys.databases\")"
   ]
  },
  {
   "cell_type": "markdown",
   "id": "95b119dc",
   "metadata": {},
   "source": [
    "# Azure Connector\n",
    "\n",
    "## Azure - Postgres\n",
    "\n",
    "### Connect Python to Azure - Postgres"
   ]
  },
  {
   "cell_type": "code",
   "execution_count": null,
   "id": "27efe6f6",
   "metadata": {},
   "outputs": [],
   "source": [
    "!pip install psycopg2\n",
    "\n",
    "import psycopg2\n",
    "\n",
    "hostname = ''\n",
    "port = ''\n",
    "db = ''\n",
    "username = ''\n",
    "password = ''\n",
    "servername = ''\n",
    "\n",
    "connection = psycopg2.connect(user = username + '@' + servername,\n",
    "                                    password = password,\n",
    "                                    host = servername + \".postgres.database.azure.com\",\n",
    "                                    port = port,\n",
    "                                    database = db)\n",
    "connection.autocommit = True\n",
    "cursor = connection.cursor()"
   ]
  },
  {
   "cell_type": "markdown",
   "id": "fda881ff",
   "metadata": {},
   "source": [
    "# Azure Connector\n",
    "\n",
    "## Azure - MariaDB\n",
    "\n",
    "### Connect Python to Azure - MariaDB"
   ]
  },
  {
   "cell_type": "code",
   "execution_count": null,
   "id": "a684dc02",
   "metadata": {},
   "outputs": [],
   "source": []
  },
  {
   "cell_type": "markdown",
   "id": "9f30eae2",
   "metadata": {},
   "source": [
    "# Azure Connector\n",
    "\n",
    "## Azure - MySQL\n",
    "\n",
    "### Connect Python to Azure - MySQL"
   ]
  },
  {
   "cell_type": "code",
   "execution_count": 15,
   "id": "2c274e74",
   "metadata": {},
   "outputs": [
    {
     "name": "stdout",
     "output_type": "stream",
     "text": [
      "2005 (HY000): Unknown MySQL server host '<mydemoserver>.mysql.database.azure.com' (11001)\n"
     ]
    }
   ],
   "source": [
    "import mysql.connector\n",
    "from mysql.connector import errorcode\n",
    "\n",
    "# Obtain connection string information from the portal\n",
    "\n",
    "config = {\n",
    "  'host':'<mydemoserver>.mysql.database.azure.com',\n",
    "  'user':'<myadmin>',\n",
    "  'password':'<mypassword>',\n",
    "  'database':'<mydatabase>'\n",
    "}\n",
    "\n",
    "# Construct connection string\n",
    "\n",
    "try:\n",
    "   conn = mysql.connector.connect(**config)\n",
    "   print(\"Connection established\")\n",
    "except mysql.connector.Error as err:\n",
    "  if err.errno == errorcode.ER_ACCESS_DENIED_ERROR:\n",
    "    print(\"Something is wrong with the user name or password\")\n",
    "  elif err.errno == errorcode.ER_BAD_DB_ERROR:\n",
    "    print(\"Database does not exist\")\n",
    "  else:\n",
    "    print(err)\n",
    "else:\n",
    "  cursor = conn.cursor()"
   ]
  },
  {
   "cell_type": "markdown",
   "id": "5ecc57f7",
   "metadata": {},
   "source": [
    "# GCP Connector\n",
    "\n",
    "## GCP - Cloud SQL\n",
    "\n",
    "### Connect Python to GCP - Cloud SQL\n",
    "\n",
    "https://towardsdatascience.com/sql-on-the-cloud-with-python-c08a30807661"
   ]
  },
  {
   "cell_type": "code",
   "execution_count": null,
   "id": "3b6ffed6",
   "metadata": {},
   "outputs": [],
   "source": [
    "import mysql.connector\n",
    "from mysql.connector.constants import ClientFlag\n",
    "\n",
    "config = {\n",
    "    'user': 'root',\n",
    "    'password': 'Password123',\n",
    "    'host': '94.944.94.94',\n",
    "    'client_flags': [ClientFlag.SSL],\n",
    "    'ssl_ca': 'ssl/server-ca.pem',\n",
    "    'ssl_cert': 'ssl/client-cert.pem',\n",
    "    'ssl_key': 'ssl/client-key.pem'\n",
    "}\n",
    "\n",
    "# now we establish our connection\n",
    "cnxn = mysql.connector.connect(**config)"
   ]
  },
  {
   "cell_type": "markdown",
   "id": "476ac02b",
   "metadata": {},
   "source": [
    "# GCP Connector\n",
    "\n",
    "## GCP - Bigtable\n",
    "\n",
    "### Connect Python to GCP - Bigtable"
   ]
  },
  {
   "cell_type": "code",
   "execution_count": null,
   "id": "50e56bb2",
   "metadata": {},
   "outputs": [],
   "source": [
    "from google_auth_oauthlib import flow\n",
    "\n",
    "appflow = flow.InstalledAppFlow.from_client_secrets_file(\n",
    "    \"client_secrets.json\", scopes=[\"https://www.googleapis.com/auth/bigtable.admin\"])\n",
    "\n",
    "appflow.run_console()\n",
    "credentials = appflow.credentials\n"
   ]
  }
 ],
 "metadata": {
  "kernelspec": {
   "display_name": "Python 3 (ipykernel)",
   "language": "python",
   "name": "python3"
  },
  "language_info": {
   "codemirror_mode": {
    "name": "ipython",
    "version": 3
   },
   "file_extension": ".py",
   "mimetype": "text/x-python",
   "name": "python",
   "nbconvert_exporter": "python",
   "pygments_lexer": "ipython3",
   "version": "3.9.7"
  }
 },
 "nbformat": 4,
 "nbformat_minor": 5
}
